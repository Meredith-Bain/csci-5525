{
  "nbformat": 4,
  "nbformat_minor": 0,
  "metadata": {
    "colab": {
      "provenance": []
    },
    "kernelspec": {
      "name": "python3",
      "display_name": "Python 3"
    },
    "language_info": {
      "name": "python"
    }
  },
  "cells": [
    {
      "cell_type": "code",
      "source": [
        "import pandas as pd\n",
        "from sklearn.ensemble import RandomForestClassifier\n",
        "from sklearn.model_selection import train_test_split\n",
        "from sklearn.metrics import classification_report, accuracy_score"
      ],
      "metadata": {
        "id": "-q132lgADviR"
      },
      "execution_count": 2,
      "outputs": []
    },
    {
      "cell_type": "code",
      "execution_count": 3,
      "metadata": {
        "id": "danhBP8OA5nP"
      },
      "outputs": [],
      "source": [
        "# load the data\n",
        "voter_data = pd.read_csv('vote_history_tensors.csv')"
      ]
    },
    {
      "cell_type": "markdown",
      "source": [
        "# Predict g2024 based on general election\n",
        "\n"
      ],
      "metadata": {
        "id": "Qt1fMgbmUi9H"
      }
    },
    {
      "cell_type": "code",
      "source": [
        "# Select general election\n",
        "general_elections = [f\"g{year}\" for year in range(1994, 2024, 2)]  # g1994 to g2022\n",
        "target = \"g2024\"\n",
        "\n",
        "\n",
        "# Drop rows where target is missing\n",
        "voter_data = voter_data.dropna(subset=[target, \"age\"])\n",
        "\n",
        "# Features and target\n",
        "X = voter_data[general_elections+[\"age\"]]\n",
        "y = voter_data[target].astype(int)  #  integer type (0 or 1)\n",
        "\n",
        "# Split into training and testing sets\n",
        "X_train, X_test, y_train, y_test = train_test_split(X, y, test_size=0.3, train_size=0.7, random_state=42)\n",
        "\n",
        "# Random Forest Classifier\n",
        "rf = RandomForestClassifier(n_estimators=10, random_state=42)\n",
        "rf.fit(X_train, y_train)\n",
        "\n",
        "# Predict and eval\n",
        "y_pred = rf.predict(X_test)\n",
        "print(\"Accuracy:\", accuracy_score(y_test, y_pred))\n",
        "print(\"\\nClassification Report:\\n\", classification_report(y_test, y_pred))\n"
      ],
      "metadata": {
        "colab": {
          "base_uri": "https://localhost:8080/"
        },
        "id": "Pm-z8JoWDzjd",
        "outputId": "e74e08b2-7941-4ca1-81d4-7e0091754b27"
      },
      "execution_count": 11,
      "outputs": [
        {
          "output_type": "stream",
          "name": "stdout",
          "text": [
            "Accuracy: 1.0\n",
            "\n",
            "Classification Report:\n",
            "               precision    recall  f1-score   support\n",
            "\n",
            "           0       1.00      1.00      1.00     79679\n",
            "           1       1.00      1.00      1.00    972021\n",
            "\n",
            "    accuracy                           1.00   1051700\n",
            "   macro avg       1.00      1.00      1.00   1051700\n",
            "weighted avg       1.00      1.00      1.00   1051700\n",
            "\n"
          ]
        }
      ]
    },
    {
      "cell_type": "markdown",
      "source": [
        "# Predict p2024 based on primary election"
      ],
      "metadata": {
        "id": "dgzVbDrOU0il"
      }
    },
    {
      "cell_type": "code",
      "source": [
        "\n",
        "\n",
        "primary_elections = [f\"p{year}\" for year in range(1994, 2024, 2)]  # p1994 to p2022\n",
        "\n",
        "\n",
        "target = \"p2024\"\n",
        "\n",
        "\n",
        "voter_data = voter_data.dropna(subset=[target, \"age\"])\n",
        "\n",
        "\n",
        "\n",
        "y = voter_data[target].astype(int)\n",
        "X = voter_data[primary_elections+[\"age\"]]\n",
        "\n",
        "\n",
        "X_train, X_test, y_train, y_test = train_test_split(X, y,test_size=0.3, train_size=0.7, random_state=42)\n",
        "\n",
        "\n",
        "rf = RandomForestClassifier(n_estimators=10,  random_state=42)\n",
        "rf.fit(X_train, y_train)\n",
        "\n",
        "\n",
        "y_pred = rf.predict(X_test)\n",
        "print(\"Accuracy:\", accuracy_score(y_test, y_pred))\n",
        "print(\"\\nClassification Report:\\n\", classification_report(y_test, y_pred, zero_division=0))\n",
        "\n"
      ],
      "metadata": {
        "colab": {
          "base_uri": "https://localhost:8080/"
        },
        "id": "WrQ64KmsR9LL",
        "outputId": "6870fa20-1299-4095-c269-cf02b1c3e442"
      },
      "execution_count": 9,
      "outputs": [
        {
          "output_type": "stream",
          "name": "stdout",
          "text": [
            "Accuracy: 1.0\n",
            "\n",
            "Classification Report:\n",
            "               precision    recall  f1-score   support\n",
            "\n",
            "           0       1.00      1.00      1.00    890719\n",
            "           1       1.00      1.00      1.00    160981\n",
            "\n",
            "    accuracy                           1.00   1051700\n",
            "   macro avg       1.00      1.00      1.00   1051700\n",
            "weighted avg       1.00      1.00      1.00   1051700\n",
            "\n"
          ]
        }
      ]
    },
    {
      "cell_type": "markdown",
      "source": [
        "# Predict g2024 based on primary election"
      ],
      "metadata": {
        "id": "SWpBecF6U5lX"
      }
    },
    {
      "cell_type": "code",
      "source": [
        "\n",
        "primary_elections = [f\"p{year}\" for year in range(1994, 2024, 2)]  # p1994 to p2022\n",
        "\n",
        "\n",
        "target = \"g2024\"\n",
        "\n",
        "\n",
        "voter_data = voter_data.dropna(subset=[target, \"age\"])\n",
        "\n",
        "\n",
        "y = voter_data[target].astype(int)\n",
        "X = voter_data[primary_elections +[\"age\"]]\n",
        "\n",
        "\n",
        "X_train, X_test, y_train, y_test = train_test_split(X, y, test_size=0.3, train_size=0.7, random_state=42)\n",
        "\n",
        "\n",
        "rf = RandomForestClassifier(n_estimators=10, random_state=42)\n",
        "rf.fit(X_train, y_train)\n",
        "\n",
        "\n",
        "y_pred = rf.predict(X_test)\n",
        "print(\"Accuracy:\", accuracy_score(y_test, y_pred))\n",
        "print(\"\\nClassification Report:\\n\", classification_report(y_test, y_pred, zero_division=0))"
      ],
      "metadata": {
        "colab": {
          "base_uri": "https://localhost:8080/"
        },
        "id": "VATPjuQ0U5Gr",
        "outputId": "8799b913-0157-4c50-e64c-ac52bc3cd33d"
      },
      "execution_count": 8,
      "outputs": [
        {
          "output_type": "stream",
          "name": "stdout",
          "text": [
            "Accuracy: 0.924233146334506\n",
            "\n",
            "Classification Report:\n",
            "               precision    recall  f1-score   support\n",
            "\n",
            "           0       0.14      0.00      0.00     79679\n",
            "           1       0.92      1.00      0.96    972021\n",
            "\n",
            "    accuracy                           0.92   1051700\n",
            "   macro avg       0.53      0.50      0.48   1051700\n",
            "weighted avg       0.87      0.92      0.89   1051700\n",
            "\n"
          ]
        }
      ]
    },
    {
      "cell_type": "markdown",
      "source": [
        "# Predict p2024 based on general election"
      ],
      "metadata": {
        "id": "sOAEajVmUwNe"
      }
    },
    {
      "cell_type": "code",
      "source": [
        "\n",
        "\n",
        "general_elections = [f\"g{year}\" for year in range(1994, 2024, 2)]  # g1994 to g2022\n",
        "\n",
        "\n",
        "target = \"p2024\"\n",
        "\n",
        "\n",
        "voter_data = voter_data.dropna(subset=[target, \"age\"])\n",
        "\n",
        "\n",
        "\n",
        "X = voter_data[general_elections + [\"age\"]]\n",
        "y = voter_data[target].astype(int)\n",
        "\n",
        "\n",
        "X_train, X_test, y_train, y_test = train_test_split(X, y, test_size=0.3, train_size=0.7, random_state=42)\n",
        "\n",
        "\n",
        "rf = RandomForestClassifier(n_estimators=10, random_state=42)\n",
        "rf.fit(X_train, y_train)\n",
        "\n",
        "\n",
        "y_pred = rf.predict(X_test)\n",
        "print(\"Accuracy:\", accuracy_score(y_test, y_pred))\n",
        "print(\"\\nClassification Report:\\n\", classification_report(y_test, y_pred))\n",
        "\n",
        "\n"
      ],
      "metadata": {
        "colab": {
          "base_uri": "https://localhost:8080/"
        },
        "id": "2tGQXZ8CIoHU",
        "outputId": "0c89655e-853c-45a1-ca1a-48abb6266092"
      },
      "execution_count": 6,
      "outputs": [
        {
          "output_type": "stream",
          "name": "stdout",
          "text": [
            "Accuracy: 0.846974422363792\n",
            "\n",
            "Classification Report:\n",
            "               precision    recall  f1-score   support\n",
            "\n",
            "           0       0.85      1.00      0.92    890719\n",
            "           1       0.71      0.00      0.00    160981\n",
            "\n",
            "    accuracy                           0.85   1051700\n",
            "   macro avg       0.78      0.50      0.46   1051700\n",
            "weighted avg       0.83      0.85      0.78   1051700\n",
            "\n",
            "\n",
            "Feature Importances:\n",
            " age      0.384790\n",
            "g1998    0.106673\n",
            "g2010    0.106605\n",
            "g2014    0.106374\n",
            "g2018    0.106342\n",
            "g2002    0.053393\n",
            "g1994    0.053067\n",
            "g2004    0.024269\n",
            "g2000    0.016474\n",
            "g2012    0.011468\n",
            "g2016    0.008732\n",
            "g2008    0.008576\n",
            "g2020    0.008165\n",
            "g1996    0.005072\n",
            "g2006    0.000000\n",
            "g2022    0.000000\n",
            "dtype: float64\n"
          ]
        }
      ]
    }
  ]
}