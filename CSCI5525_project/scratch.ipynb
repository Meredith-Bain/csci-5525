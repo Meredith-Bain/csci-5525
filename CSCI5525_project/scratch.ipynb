{
 "cells": [
  {
   "cell_type": "code",
   "execution_count": 1,
   "metadata": {},
   "outputs": [
    {
     "name": "stderr",
     "output_type": "stream",
     "text": [
      "/Library/Frameworks/Python.framework/Versions/3.11/lib/python3.11/site-packages/google/cloud/bigquery/table.py:1933: UserWarning: BigQuery Storage module not found, fetch data with the REST endpoint instead.\n",
      "  warnings.warn(\n"
     ]
    }
   ],
   "source": [
    "#import data from bigquery\n",
    "\n",
    "import google.cloud.bigquery as bigquery\n",
    "import pandas as pd\n",
    "\n",
    "bq_client = bigquery.Client()\n",
    "\n",
    "query = 'select * from `enhanced-medium-425515-n9.mn_voter_file.vote_history_tensors`'\n",
    "df = bq_client.query(query).result().to_dataframe()\n",
    "df.to_csv('vote_history_tensors.csv.gz', index=False, encoding='utf-8', compression='gzip')"
   ]
  },
  {
   "cell_type": "code",
   "execution_count": 2,
   "metadata": {},
   "outputs": [],
   "source": [
    "import numpy\n",
    "import pandas as pd\n",
    "from torch import nn\n",
    "from torch.utils.data import DataLoader\n",
    "from torchvision import datasets\n",
    "from torchvision.transforms import ToTensor\n",
    "\n",
    "df = read_csv('vote_history_tensors.csv')\n",
    "\n",
    "for col in len(df[0]):\n",
    "    print(type())\n",
    "\n",
    "#separate numerical & string data\n",
    "numerical_cols = df.select_dtypes(include=['number']).columns\n",
    "categorical_cols = df.select_dtypes(include=['object']).columns\n",
    "numerical_df = df[numerical_cols]\n",
    "categorical_df = df[categorical_cols]\n",
    "\n",
    "\n",
    "\n",
    "\n"
   ]
  }
 ],
 "metadata": {
  "kernelspec": {
   "display_name": "Python 3",
   "language": "python",
   "name": "python3"
  },
  "language_info": {
   "codemirror_mode": {
    "name": "ipython",
    "version": 3
   },
   "file_extension": ".py",
   "mimetype": "text/x-python",
   "name": "python",
   "nbconvert_exporter": "python",
   "pygments_lexer": "ipython3",
   "version": "3.11.6"
  }
 },
 "nbformat": 4,
 "nbformat_minor": 2
}
