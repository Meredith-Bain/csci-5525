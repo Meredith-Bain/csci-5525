{
 "cells": [
  {
   "cell_type": "code",
   "execution_count": 39,
   "metadata": {},
   "outputs": [
    {
     "name": "stdout",
     "output_type": "stream",
     "text": [
      "mean 0.826537532839408\n",
      "variance: 0.0760156855026238\n",
      "accept the alternative hypothesis\n",
      "15024\n",
      "2.770195955872026\n",
      "2.770195955872026\n"
     ]
    },
    {
     "data": {
      "text/plain": [
       "<matplotlib.lines.Line2D at 0x16aa9ec50>"
      ]
     },
     "execution_count": 39,
     "metadata": {},
     "output_type": "execute_result"
    },
    {
     "data": {
      "image/png": "[encoded data removed]",
      "text/plain": [
       "<Figure size 640x480 with 1 Axes>"
      ]
     },
     "metadata": {},
     "output_type": "display_data"
    }
   ],
   "source": [
    "import pandas as pd\n",
    "import matplotlib.pyplot as plt\n",
    "\n",
    "df = pd.read_csv(\"voter_turnout_averages.csv\")\n",
    "\n",
    "sum = 0\n",
    "upper_bound = 2.77\n",
    "lower_bound = -1.56\n",
    "\n",
    "mean = df[\"vote_history_score\"].mean()\n",
    "print(\"mean\", mean)\n",
    "\n",
    "var = df[\"vote_history_score\"].var()\n",
    "print(\"variance:\", var)\n",
    "\n",
    "lambda_k = []\n",
    "i_list = []\n",
    "\n",
    "for i in range(len(df)):\n",
    "\n",
    "    score = df[\"vote_history_score\"].iloc[:i].sum() / (i+1)\n",
    "    lambda_i = (score-0.8826)*(score-0.8826)-(score-.985)*(score-.985)\n",
    "\n",
    "    sum += 0.16 * lambda_i\n",
    "    lambda_k.append(sum)\n",
    "    i_list.append(i)\n",
    "\n",
    "    if sum < lower_bound:\n",
    "        print(\"accept the null hypothesis\")\n",
    "        print(i)\n",
    "        print(sum)\n",
    "        print(score)\n",
    "        break\n",
    "    elif sum > upper_bound:\n",
    "        print(\"accept the alternative hypothesis\")\n",
    "        print(i)\n",
    "        print(sum)\n",
    "        break\n",
    "\n",
    "print(sum)\n",
    "\n",
    "\n",
    "\n",
    "# Create the scatter plot\n",
    "plt.scatter( i_list, lambda_k, label='Lambda_k over k', color='blue', marker='o')\n",
    "\n",
    "# Plot the horizontal lines\n",
    "plt.axhline(y=upper_bound, color='red', linestyle='--', label=f'Upper Bound ({upper_bound})')\n",
    "plt.axhline(y=lower_bound, color='green', linestyle='--', label=f'Lower Bound ({lower_bound})')\n",
    "\n",
    "\n",
    "\n"
   ]
  },
  {
   "cell_type": "code",
   "execution_count": 24,
   "metadata": {},
   "outputs": [
    {
     "name": "stdout",
     "output_type": "stream",
     "text": [
      "mean 0.7749562815344541\n",
      "variance: 0.04893558674395324\n",
      "0.2813416303934253\n"
     ]
    },
    {
     "data": {
      "text/plain": [
       "<matplotlib.lines.Line2D at 0x1244a8f90>"
      ]
     },
     "execution_count": 24,
     "metadata": {},
     "output_type": "execute_result"
    },
    {
     "data": {
      "image/png": "[encoded data removed]",
      "text/plain": [
       "<Figure size 640x480 with 1 Axes>"
      ]
     },
     "metadata": {},
     "output_type": "display_data"
    }
   ],
   "source": [
    "#for experimenting\n",
    "\n",
    "\n",
    "# df = pd.read_csv(\"turnout_score_ntl.csv\")\n",
    "df = pd.read_csv(\"normal_voter_data.csv\")\n",
    "\n",
    "sum = 0\n",
    "\n",
    "mean = df[\"turnout\"].mean()\n",
    "# mean = df[\"vote_history_score\"].mean()\n",
    "print(\"mean\", mean)\n",
    "\n",
    "var = df[\"turnout\"].var()\n",
    "# var = df[\"vote_history_score\"].var()\n",
    "print(\"variance:\", var)\n",
    "\n",
    "lambda_k = []\n",
    "i_list = []\n",
    "\n",
    "for i in range(len(df)):\n",
    "    # if i == 3:\n",
    "    #     print(df[\"vote_history_score\"].iloc[i])\n",
    "    # score = df[\"vote_history_score\"].iloc[:i].sum() / (i+1)\n",
    "    score = df[\"turnout\"].iloc[:i].sum() / (i+1)\n",
    "    add = (score-0.8826)*(score-0.8826)-(score-mean)*(score-mean)\n",
    "    # add = ((score-mean)*(score-mean))-((score-0.8265)*(score-0.8265))\n",
    "\n",
    "    sum += 0.16 * add\n",
    "    # sum += (1/(2*var) * add)\n",
    "    lambda_k.append(sum)\n",
    "    i_list.append(i)\n",
    "\n",
    "    if i > 50:\n",
    "        break\n",
    "\n",
    "    if sum < -1.56:\n",
    "        print(\"accept the null hypothesis\")\n",
    "        print(i)\n",
    "        print(sum)\n",
    "        print(score)\n",
    "        break\n",
    "    elif sum > 2.77:\n",
    "        print(\"accept the alternative hypothesis\")\n",
    "        print(i)\n",
    "        print(sum)\n",
    "        break\n",
    "\n",
    "print(sum)\n",
    "\n",
    "upper_bound = 2.77\n",
    "lower_bound = -1.56\n",
    "\n",
    "# Create the scatter plot\n",
    "# plt.figure(figsize=(8, 6))  # Adjust figure size if needed\n",
    "plt.scatter( i_list, lambda_k, label='Lambda_k over k', color='blue', marker='o')\n",
    "\n",
    "# Plot the horizontal lines\n",
    "plt.axhline(y=upper_bound, color='red', linestyle='--', label=f'Upper Bound ({upper_bound})')\n",
    "plt.axhline(y=lower_bound, color='green', linestyle='--', label=f'Lower Bound ({lower_bound})')\n"
   ]
  }
 ],
 "metadata": {
  "kernelspec": {
   "display_name": "Python 3",
   "language": "python",
   "name": "python3"
  },
  "language_info": {
   "codemirror_mode": {
    "name": "ipython",
    "version": 3
   },
   "file_extension": ".py",
   "mimetype": "text/x-python",
   "name": "python",
   "nbconvert_exporter": "python",
   "pygments_lexer": "ipython3",
   "version": "3.11.6"
  }
 },
 "nbformat": 4,
 "nbformat_minor": 2
}
