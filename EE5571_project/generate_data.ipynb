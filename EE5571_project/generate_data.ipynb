{
 "cells": [
  {
   "cell_type": "code",
   "execution_count": 9,
   "metadata": {},
   "outputs": [],
   "source": [
    "import numpy as np\n",
    "import math\n",
    "\n",
    "header = \"turnout\\n\"\n",
    "with open('normal_voter_data.csv', 'w') as f:\n",
    "    f.write(header)\n",
    "    for i in range(3600000):\n",
    "        num = np.random.normal(0.82, math.sqrt(0.08), 1).tolist()[0]\n",
    "        if num > 1:\n",
    "            num = 1\n",
    "        f.write(str(num)+\"\\n\")\n",
    "\n"
   ]
  }
 ],
 "metadata": {
  "kernelspec": {
   "display_name": "Python 3",
   "language": "python",
   "name": "python3"
  },
  "language_info": {
   "codemirror_mode": {
    "name": "ipython",
    "version": 3
   },
   "file_extension": ".py",
   "mimetype": "text/x-python",
   "name": "python",
   "nbconvert_exporter": "python",
   "pygments_lexer": "ipython3",
   "version": "3.11.6"
  }
 },
 "nbformat": 4,
 "nbformat_minor": 2
}
